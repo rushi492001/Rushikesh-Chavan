{
 "cells": [
  {
   "cell_type": "code",
   "execution_count": 60,
   "id": "4f62c5ae-3c84-48ee-957a-479788f998ba",
   "metadata": {},
   "outputs": [
    {
     "name": "stdin",
     "output_type": "stream",
     "text": [
      "Enter the string: the quick brown fox jumps over the\n"
     ]
    },
    {
     "name": "stdout",
     "output_type": "stream",
     "text": [
      "the quick brown fox jumps over the\n"
     ]
    }
   ],
   "source": [
    "# Question 1 Missing Characters to form a pangram\n",
    "n=input(\"Enter the string:\")\n",
    "j=\"abcdefghijklmnopqrstwxyz\"\n",
    "s=\"\"\n",
    "def check_pangram(n):\n",
    "    for i in n:\n",
    "        if i.lower() not in = j:\n",
    "            print(n)\n",
    "            break\n",
    "\n",
    "check_pangram(n)"
   ]
  },
  {
   "cell_type": "code",
   "execution_count": 77,
   "id": "56492c0a-f730-4704-a1af-d8868aedb6f6",
   "metadata": {},
   "outputs": [
    {
     "name": "stdout",
     "output_type": "stream",
     "text": [
      "------------------------\n",
      "----------Menu----------\n",
      "1. Electonics Products\n",
      "2. Clothing Products\n",
      "3. Groceries Products\n",
      "4. Exit\n",
      "------------------------\n",
      "------------------------\n"
     ]
    },
    {
     "name": "stdin",
     "output_type": "stream",
     "text": [
      "Enter Choice:  4\n"
     ]
    },
    {
     "name": "stdout",
     "output_type": "stream",
     "text": [
      "Exit\n"
     ]
    }
   ],
   "source": [
    "price=0\n",
    "quantity=0\n",
    "\n",
    "products={}\n",
    "product_id=1001\n",
    "def Electronics(products):\n",
    "    data=[]\n",
    "    data.append(input(\"Enter the Product Name:\"))\n",
    "    data.append(input(\"Enter the Category:\"))\n",
    "    data.append(input(\"Enter the Price:\"))\n",
    "    data.append(input(\"Enter the Quantity:\"))\n",
    "    product_id=+1\n",
    "    products[product_id]=data\n",
    "    print(\"Electronics Product Details:\",product_id,products)\n",
    "    with open(\"read_inventory_data.text\",\"a\") as f:\n",
    "            d=f.write(str(products))\n",
    "            print(d)\n",
    "        \n",
    "    # print(\"Total_Price:\",*quantity[products],\".rs\")\n",
    "\n",
    "def Clothing(products):\n",
    "    data=[]\n",
    "    data.append(input(\"Enter the Product Name:\"))\n",
    "    data.append(input(\"Enter the Category:\"))\n",
    "    data.append(input(\"Enter the Price:\"))\n",
    "    data.append(input(\"Enter the Quantity:\"))\n",
    "    product_id=+1\n",
    "    products[product_id]=data\n",
    "    print(\"Clothing Product Details:\",product_id,products)\n",
    "    with open(\"read_inventory_data.text\",\"a\") as f:\n",
    "            d=f.write(str(products))\n",
    "            print(d)\n",
    "\n",
    "def Groceries(products):\n",
    "    data=[]\n",
    "    data.append(input(\"Enter the Product Name:\"))\n",
    "    data.append(input(\"Enter the Category:\"))\n",
    "    data.append(input(\"Enter the Price:\"))\n",
    "    data.append(input(\"Enter the Quantity:\"))\n",
    "    product_id=+1\n",
    "    products[product_id]=data\n",
    "    print(\"Grocies Product Details:\",product_id,products) \n",
    "    with open(\"read_inventory_data.text\",\"a\") as f:\n",
    "            d=f.write(str(products))\n",
    "            print(d)\n",
    "    \n",
    "while True:\n",
    "    print(\"------------------------\")\n",
    "    print(\"----------Menu----------\")\n",
    "    print(\"1. Electonics Products\")\n",
    "    print(\"2. Clothing Products\")\n",
    "    print(\"3. Groceries Products\")\n",
    "    print(\"4. Exit\")\n",
    "    print(\"------------------------\")\n",
    "    print(\"------------------------\")\n",
    "    \n",
    "    ch=int(input(\"Enter Choice: \"))\n",
    "\n",
    "    if ch==1:\n",
    "        Electronics(products)\n",
    "        f.close\n",
    "    elif ch==2:\n",
    "        Clothing(products)\n",
    "    elif ch==3:\n",
    "        Groceries(products)\n",
    "    elif ch==4:\n",
    "        print(\"Exit\")\n",
    "        break\n",
    "    else:\n",
    "        print(\"Wrong Choice Try Again\")    \n"
   ]
  }
 ],
 "metadata": {
  "kernelspec": {
   "display_name": "Python 3 (ipykernel)",
   "language": "python",
   "name": "python3"
  },
  "language_info": {
   "codemirror_mode": {
    "name": "ipython",
    "version": 3
   },
   "file_extension": ".py",
   "mimetype": "text/x-python",
   "name": "python",
   "nbconvert_exporter": "python",
   "pygments_lexer": "ipython3",
   "version": "3.13.2"
  }
 },
 "nbformat": 4,
 "nbformat_minor": 5
}
